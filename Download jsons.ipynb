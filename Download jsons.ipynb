{
 "cells": [
  {
   "cell_type": "code",
   "execution_count": 1,
   "metadata": {},
   "outputs": [
    {
     "name": "stderr",
     "output_type": "stream",
     "text": [
      "C:\\Users\\gangu\\anaconda3\\lib\\site-packages\\urllib3\\connectionpool.py:979: InsecureRequestWarning: Unverified HTTPS request is being made to host 'www.circl.lu'. Adding certificate verification is strongly advised. See: https://urllib3.readthedocs.io/en/latest/advanced-usage.html#ssl-warnings\n",
      "  warnings.warn(\n"
     ]
    },
    {
     "name": "stdout",
     "output_type": "stream",
     "text": [
      "1432\n"
     ]
    }
   ],
   "source": [
    "from bs4 import BeautifulSoup\n",
    "import requests\n",
    "from requests import get\n",
    "\n",
    "domain=\"https://www.circl.lu/doc/misp/feed-osint/\"\n",
    "page=requests.get(\"https://www.circl.lu/doc/misp/feed-osint/\", verify=False)\n",
    "\n",
    "'''What is HTTP?\n",
    "HTTP is a set of protocols designed to enable communication between clients and servers. It works as a request-response protocol between a client and server.\n",
    "A web browser may be the client, and an application on a computer that hosts a website may be the server.\n",
    "\n",
    "So, to request a response from the server, there are mainly two methods:\n",
    "\n",
    "GET : to request data from the server.\n",
    "POST : to submit data to be processed to the server.'''\n",
    "\n",
    "html=page.text                               #Get the server data in the form of text\n",
    "soup=BeautifulSoup(html, \"html.parser\")      #Formatting the text data using html parser for better visualization.\n",
    "\n",
    "json_count=0\n",
    "for link in soup.find_all('a'):              # 'a' is the tag for links in html. It gets every single link on the webpage.\n",
    "    url=link.get('href')                     # Get the hrefs.\n",
    "    if \".json\" in url:                       #Filter all the jsons\n",
    "        \n",
    "        #write the contents of the json from domain and url in the file into our system.\n",
    "        with open(url, \"wb\") as file:\n",
    "            response=get(domain+url)\n",
    "            file.write(response.content)\n",
    "        json_count += 1                     #Get the count of the number of jsons.\n",
    "        \n",
    "    else:\n",
    "        continue\n",
    "\n",
    "print(json_count)"
   ]
  },
  {
   "cell_type": "code",
   "execution_count": null,
   "metadata": {},
   "outputs": [],
   "source": []
  }
 ],
 "metadata": {
  "kernelspec": {
   "display_name": "Python 3",
   "language": "python",
   "name": "python3"
  },
  "language_info": {
   "codemirror_mode": {
    "name": "ipython",
    "version": 3
   },
   "file_extension": ".py",
   "mimetype": "text/x-python",
   "name": "python",
   "nbconvert_exporter": "python",
   "pygments_lexer": "ipython3",
   "version": "3.8.3"
  }
 },
 "nbformat": 4,
 "nbformat_minor": 4
}
